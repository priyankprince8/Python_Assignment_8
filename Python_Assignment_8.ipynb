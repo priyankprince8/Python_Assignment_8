{
  "nbformat": 4,
  "nbformat_minor": 0,
  "metadata": {
    "colab": {
      "provenance": []
    },
    "kernelspec": {
      "name": "python3",
      "display_name": "Python 3"
    },
    "language_info": {
      "name": "python"
    }
  },
  "cells": [
    {
      "cell_type": "code",
      "execution_count": 1,
      "metadata": {
        "id": "eJWHci3m_z5H"
      },
      "outputs": [],
      "source": [
        "#1. Is the Python Standard Library included with PyInputPlus?\n",
        "#PyInputPlus is a Python module used for taking inputs with additional validation features. PyInputPlus will keep asking the user for text until they enter valid input."
      ]
    },
    {
      "cell_type": "code",
      "source": [
        "#2. Why is PyInputPlus commonly imported with import pyinputplus as pypi?\n",
        "#The 'as pypi' code in the import statement saves us from typing pyinputplus each time we want to call a PyInputPlus function."
      ],
      "metadata": {
        "id": "PU_Q8qxCALSM"
      },
      "execution_count": 2,
      "outputs": []
    },
    {
      "cell_type": "code",
      "source": [
        "#3. How do you distinguish between inputInt() and inputFloat()?\n",
        "#\"inputInt()\" : Accepts an integer value. This also takes additional parameters ‘min’, ‘max’, ‘greaterThan’ and ‘lessThan’ for bounds. Returns an int. \"inputFloat()\" : Accepts a floating-point numeric value. Also takes additional ‘min’, ‘max’, ‘greaterThan’ and ‘lessThan’ parameters. Returns a float."
      ],
      "metadata": {
        "id": "3Rts7XS3ARlV"
      },
      "execution_count": 3,
      "outputs": []
    },
    {
      "cell_type": "code",
      "source": [
        "#4. Using PyInputPlus, how do you ensure that the user enters a whole number between 0 and 99?\n",
        "\n",
        "#import pyinputplus as pyip\n",
        "\n",
        "#result = pyip.inputInt(prompt='Enter a whole number between 0 and 99: ', min=0, max=99)\n",
        "\n",
        "#print(f'You entered: {result}')\n"
      ],
      "metadata": {
        "id": "9E0XOKYzAZSk"
      },
      "execution_count": 13,
      "outputs": []
    },
    {
      "cell_type": "code",
      "source": [
        "#5. What is transferred to the keyword arguments allowRegexes and blockRegexes?\n",
        "#The allowRegexes and blockRegexes keyword arguments take a list of regular expression strings to determine what the PyInputPlus function will accept or reject as valid input."
      ],
      "metadata": {
        "id": "0pdVdfe8Alkn"
      },
      "execution_count": 8,
      "outputs": []
    },
    {
      "cell_type": "code",
      "source": [
        "#6. If a blank input is entered three times, what does inputStr(limit=3) do?\n",
        "\n",
        "#import pyinputplus as pyip\n",
        "\n",
        "#try:\n",
        " #   result = pyip.inputStr(prompt='Enter a non-blank string: ', limit=3)\n",
        " #  print(f'You entered: {result}')\n",
        "#except pyip.TimeoutException:\n",
        " #   print('You reached the maximum number of attempts without entering a non-blank string.')\n"
      ],
      "metadata": {
        "id": "KYXdGEm6BElK"
      },
      "execution_count": 15,
      "outputs": []
    },
    {
      "cell_type": "code",
      "source": [
        "#7. If blank input is entered three times, what does inputStr(limit=3, default='hello') do?\n",
        "# The function returns the default value instead of raising an exception.\n",
        "#inp = pypi.inputStr(limit=3, default='hello')"
      ],
      "metadata": {
        "id": "3LgkoIopB9CB"
      },
      "execution_count": 17,
      "outputs": []
    },
    {
      "cell_type": "code",
      "source": [],
      "metadata": {
        "id": "3OUVcgwEC7gf"
      },
      "execution_count": null,
      "outputs": []
    }
  ]
}